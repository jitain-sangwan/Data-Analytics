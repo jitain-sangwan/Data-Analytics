{
 "cells": [
  {
   "cell_type": "markdown",
   "id": "b04de908",
   "metadata": {},
   "source": [
    "ANALYTICS IN RETAIL:\n",
    "With the retail market getting more and more competitive by the day, there has never been\n",
    "anything more important than the ability for optimizing service business processes when\n",
    "trying to satisfy the expectations of customers. Channelizing and managing data with the\n",
    "aim of working in favor of the customer as well as generating profits is very significant for\n",
    "survival.\n",
    "Ideally, a retailer’s customer data reflects the company’s success in reaching and nurturing\n",
    "its customers. Retailers built reports summarizing customer behavior using metrics such as\n",
    "conversion rate, average order value, recency of purchase and total amount spent in recent\n",
    "transactions. These measurements provided general insight into the behavioral tendencies\n",
    "of customers.\n",
    "Customer intelligence is the practice of determining and delivering data-driven insights into\n",
    "past and predicted future customer behavior.To be effective, customer intelligence must\n",
    "combine raw transactional and behavioral data to generate derived measures.\n",
    "In a nutshell, for big retail players all over the world, data analytics is applied more these\n",
    "days at all stages of the retail process – taking track of popular products that are emerging,\n",
    "doing forecasts of sales and future demand via predictive simulation, optimizing placements\n",
    "of products and offers through heat-mapping of customers and many others.\n",
    "DATA AVAILABILITY:\n",
    " Retail Data.xlsx\n",
    "o This book has three sheets (Customer, Transaction, Product Heirarchy)\n",
    "o Customer: Customers information including demographics\n",
    "o Transaction: Transactions of customers\n",
    "o Product Heirarchy: Product information (cateogry, sub category etc...)\n",
    "BUSINESS PROBLEM:\n",
    "A Retail store is required to analyze the day-to-day transactions and keep a track of its customers\n",
    "spread across various locations along with their purchases/returns across various categories.\n",
    "Create a report and display the below calculated metrics, reports and inferences.\n",
    "1. Merge the datasets Customers, Product Hierarchy and Transactions as Customer_Final. Ensure to\n",
    "keep all customers who have done transactions with us and select the join type accordingly.\n",
    "2. Prepare a summary report for the merged data set.\n",
    "a. Get the column names and their corresponding data types\n",
    "b. Top/Bottom 10 observations\n",
    "\n",
    "c. “Five-number summary” for continuous variables (min, Q1, median, Q3 and max)\n",
    "d. Frequency tables for all the categorical variables\n",
    "3. Generate histograms for all continuous variables and frequency bars for categorical variables.\n",
    "4. Calculate the following information using the merged dataset :\n",
    "a. Time period of the available transaction data\n",
    "b. Count of transactions where the total amount of transaction was negative\n",
    "5. Analyze which product categories are more popular among females vs male customers.\n",
    "6. Which City code has the maximum customers and what was the percentage of customers from\n",
    "that city?\n",
    "7. Which store type sells the maximum products"
   ]
  },
  {
   "cell_type": "code",
   "execution_count": 408,
   "id": "d1837a7c",
   "metadata": {},
   "outputs": [],
   "source": [
    "import pandas as pd\n",
    "import numpy as np"
   ]
  },
  {
   "cell_type": "code",
   "execution_count": 409,
   "id": "5b1da5ae",
   "metadata": {},
   "outputs": [
    {
     "name": "stdout",
     "output_type": "stream",
     "text": [
      " Volume in drive C has no label.\n",
      " Volume Serial Number is B6D2-E8E2\n",
      "\n",
      " Directory of C:\\Users\\jitain.sangwan_vvdnt\\case study\n",
      "\n",
      "12-Jul-22  12:31 AM    <DIR>          .\n",
      "12-Jul-22  12:31 AM    <DIR>          ..\n",
      "11-Jul-22  11:53 AM    <DIR>          .ipynb_checkpoints\n",
      "02-Nov-15  06:38 AM           130,469 Customer.csv\n",
      "27-May-18  04:05 PM               588 prod_cat_info.csv\n",
      "11-Jul-22  11:50 AM           547,395 Python Foundation Case Study 1 - Retail Case Study.rar\n",
      "14-Jan-19  07:38 PM           100,037 Retail Case Study.pdf\n",
      "30-May-18  05:37 PM         1,483,731 Transactions.csv\n",
      "12-Jul-22  12:31 AM           405,349 Untitled.ipynb\n",
      "               6 File(s)      2,667,569 bytes\n",
      "               3 Dir(s)  116,810,833,920 bytes free\n"
     ]
    }
   ],
   "source": [
    "ls"
   ]
  },
  {
   "cell_type": "code",
   "execution_count": 410,
   "id": "4894b6d7",
   "metadata": {},
   "outputs": [],
   "source": [
    "cust,prod_info,transaction = pd.read_csv(\"Customer.csv\"),pd.read_csv(\"prod_cat_info.csv\"),pd.read_csv(\"Transactions.csv\")"
   ]
  },
  {
   "cell_type": "code",
   "execution_count": 411,
   "id": "f022b340",
   "metadata": {
    "scrolled": true
   },
   "outputs": [
    {
     "data": {
      "text/html": [
       "<div>\n",
       "<style scoped>\n",
       "    .dataframe tbody tr th:only-of-type {\n",
       "        vertical-align: middle;\n",
       "    }\n",
       "\n",
       "    .dataframe tbody tr th {\n",
       "        vertical-align: top;\n",
       "    }\n",
       "\n",
       "    .dataframe thead th {\n",
       "        text-align: right;\n",
       "    }\n",
       "</style>\n",
       "<table border=\"1\" class=\"dataframe\">\n",
       "  <thead>\n",
       "    <tr style=\"text-align: right;\">\n",
       "      <th></th>\n",
       "      <th>transaction_id</th>\n",
       "      <th>cust_id</th>\n",
       "      <th>tran_date</th>\n",
       "      <th>prod_subcat_code</th>\n",
       "      <th>prod_cat_code</th>\n",
       "      <th>Qty</th>\n",
       "      <th>Rate</th>\n",
       "      <th>Tax</th>\n",
       "      <th>total_amt</th>\n",
       "      <th>Store_type</th>\n",
       "      <th>prod_cat</th>\n",
       "      <th>prod_subcat</th>\n",
       "    </tr>\n",
       "  </thead>\n",
       "  <tbody>\n",
       "    <tr>\n",
       "      <th>0</th>\n",
       "      <td>80712190438</td>\n",
       "      <td>270351</td>\n",
       "      <td>28-02-2014</td>\n",
       "      <td>1</td>\n",
       "      <td>1</td>\n",
       "      <td>-5</td>\n",
       "      <td>-772</td>\n",
       "      <td>405.300</td>\n",
       "      <td>-4265.300</td>\n",
       "      <td>e-Shop</td>\n",
       "      <td>Clothing</td>\n",
       "      <td>Women</td>\n",
       "    </tr>\n",
       "    <tr>\n",
       "      <th>1</th>\n",
       "      <td>29258453508</td>\n",
       "      <td>270384</td>\n",
       "      <td>27-02-2014</td>\n",
       "      <td>5</td>\n",
       "      <td>3</td>\n",
       "      <td>-5</td>\n",
       "      <td>-1497</td>\n",
       "      <td>785.925</td>\n",
       "      <td>-8270.925</td>\n",
       "      <td>e-Shop</td>\n",
       "      <td>Electronics</td>\n",
       "      <td>Computers</td>\n",
       "    </tr>\n",
       "    <tr>\n",
       "      <th>2</th>\n",
       "      <td>51750724947</td>\n",
       "      <td>273420</td>\n",
       "      <td>24-02-2014</td>\n",
       "      <td>6</td>\n",
       "      <td>5</td>\n",
       "      <td>-2</td>\n",
       "      <td>-791</td>\n",
       "      <td>166.110</td>\n",
       "      <td>-1748.110</td>\n",
       "      <td>TeleShop</td>\n",
       "      <td>Books</td>\n",
       "      <td>DIY</td>\n",
       "    </tr>\n",
       "    <tr>\n",
       "      <th>3</th>\n",
       "      <td>93274880719</td>\n",
       "      <td>271509</td>\n",
       "      <td>24-02-2014</td>\n",
       "      <td>11</td>\n",
       "      <td>6</td>\n",
       "      <td>-3</td>\n",
       "      <td>-1363</td>\n",
       "      <td>429.345</td>\n",
       "      <td>-4518.345</td>\n",
       "      <td>e-Shop</td>\n",
       "      <td>Home and kitchen</td>\n",
       "      <td>Bath</td>\n",
       "    </tr>\n",
       "    <tr>\n",
       "      <th>4</th>\n",
       "      <td>51750724947</td>\n",
       "      <td>273420</td>\n",
       "      <td>23-02-2014</td>\n",
       "      <td>6</td>\n",
       "      <td>5</td>\n",
       "      <td>-2</td>\n",
       "      <td>-791</td>\n",
       "      <td>166.110</td>\n",
       "      <td>-1748.110</td>\n",
       "      <td>TeleShop</td>\n",
       "      <td>Books</td>\n",
       "      <td>DIY</td>\n",
       "    </tr>\n",
       "    <tr>\n",
       "      <th>...</th>\n",
       "      <td>...</td>\n",
       "      <td>...</td>\n",
       "      <td>...</td>\n",
       "      <td>...</td>\n",
       "      <td>...</td>\n",
       "      <td>...</td>\n",
       "      <td>...</td>\n",
       "      <td>...</td>\n",
       "      <td>...</td>\n",
       "      <td>...</td>\n",
       "      <td>...</td>\n",
       "      <td>...</td>\n",
       "    </tr>\n",
       "    <tr>\n",
       "      <th>23048</th>\n",
       "      <td>94340757522</td>\n",
       "      <td>274550</td>\n",
       "      <td>25-01-2011</td>\n",
       "      <td>12</td>\n",
       "      <td>5</td>\n",
       "      <td>1</td>\n",
       "      <td>1264</td>\n",
       "      <td>132.720</td>\n",
       "      <td>1396.720</td>\n",
       "      <td>e-Shop</td>\n",
       "      <td>Books</td>\n",
       "      <td>Academic</td>\n",
       "    </tr>\n",
       "    <tr>\n",
       "      <th>23049</th>\n",
       "      <td>89780862956</td>\n",
       "      <td>270022</td>\n",
       "      <td>25-01-2011</td>\n",
       "      <td>4</td>\n",
       "      <td>1</td>\n",
       "      <td>1</td>\n",
       "      <td>677</td>\n",
       "      <td>71.085</td>\n",
       "      <td>748.085</td>\n",
       "      <td>e-Shop</td>\n",
       "      <td>Clothing</td>\n",
       "      <td>Mens</td>\n",
       "    </tr>\n",
       "    <tr>\n",
       "      <th>23050</th>\n",
       "      <td>85115299378</td>\n",
       "      <td>271020</td>\n",
       "      <td>25-01-2011</td>\n",
       "      <td>2</td>\n",
       "      <td>6</td>\n",
       "      <td>4</td>\n",
       "      <td>1052</td>\n",
       "      <td>441.840</td>\n",
       "      <td>4649.840</td>\n",
       "      <td>MBR</td>\n",
       "      <td>Home and kitchen</td>\n",
       "      <td>Furnishing</td>\n",
       "    </tr>\n",
       "    <tr>\n",
       "      <th>23051</th>\n",
       "      <td>72870271171</td>\n",
       "      <td>270911</td>\n",
       "      <td>25-01-2011</td>\n",
       "      <td>11</td>\n",
       "      <td>5</td>\n",
       "      <td>3</td>\n",
       "      <td>1142</td>\n",
       "      <td>359.730</td>\n",
       "      <td>3785.730</td>\n",
       "      <td>TeleShop</td>\n",
       "      <td>Books</td>\n",
       "      <td>Children</td>\n",
       "    </tr>\n",
       "    <tr>\n",
       "      <th>23052</th>\n",
       "      <td>77960931771</td>\n",
       "      <td>271961</td>\n",
       "      <td>25-01-2011</td>\n",
       "      <td>11</td>\n",
       "      <td>5</td>\n",
       "      <td>1</td>\n",
       "      <td>447</td>\n",
       "      <td>46.935</td>\n",
       "      <td>493.935</td>\n",
       "      <td>TeleShop</td>\n",
       "      <td>Books</td>\n",
       "      <td>Children</td>\n",
       "    </tr>\n",
       "  </tbody>\n",
       "</table>\n",
       "<p>23053 rows × 12 columns</p>\n",
       "</div>"
      ],
      "text/plain": [
       "       transaction_id  cust_id   tran_date  prod_subcat_code  prod_cat_code  \\\n",
       "0         80712190438   270351  28-02-2014                 1              1   \n",
       "1         29258453508   270384  27-02-2014                 5              3   \n",
       "2         51750724947   273420  24-02-2014                 6              5   \n",
       "3         93274880719   271509  24-02-2014                11              6   \n",
       "4         51750724947   273420  23-02-2014                 6              5   \n",
       "...               ...      ...         ...               ...            ...   \n",
       "23048     94340757522   274550  25-01-2011                12              5   \n",
       "23049     89780862956   270022  25-01-2011                 4              1   \n",
       "23050     85115299378   271020  25-01-2011                 2              6   \n",
       "23051     72870271171   270911  25-01-2011                11              5   \n",
       "23052     77960931771   271961  25-01-2011                11              5   \n",
       "\n",
       "       Qty  Rate      Tax  total_amt Store_type          prod_cat prod_subcat  \n",
       "0       -5  -772  405.300  -4265.300     e-Shop          Clothing       Women  \n",
       "1       -5 -1497  785.925  -8270.925     e-Shop       Electronics   Computers  \n",
       "2       -2  -791  166.110  -1748.110   TeleShop             Books         DIY  \n",
       "3       -3 -1363  429.345  -4518.345     e-Shop  Home and kitchen        Bath  \n",
       "4       -2  -791  166.110  -1748.110   TeleShop             Books         DIY  \n",
       "...    ...   ...      ...        ...        ...               ...         ...  \n",
       "23048    1  1264  132.720   1396.720     e-Shop             Books    Academic  \n",
       "23049    1   677   71.085    748.085     e-Shop          Clothing        Mens  \n",
       "23050    4  1052  441.840   4649.840        MBR  Home and kitchen  Furnishing  \n",
       "23051    3  1142  359.730   3785.730   TeleShop             Books    Children  \n",
       "23052    1   447   46.935    493.935   TeleShop             Books    Children  \n",
       "\n",
       "[23053 rows x 12 columns]"
      ]
     },
     "execution_count": 411,
     "metadata": {},
     "output_type": "execute_result"
    }
   ],
   "source": [
    "prod_info.rename(columns={\"prod_sub_cat_code\":\"prod_subcat_code\"},inplace=True)\n",
    "prod_concat = pd.merge(left=transaction, right=prod_info,on=[\"prod_subcat_code\",\"prod_cat_code\"],how=\"left\")\n",
    "prod_concat"
   ]
  },
  {
   "cell_type": "code",
   "execution_count": 412,
   "id": "ad7d2354",
   "metadata": {
    "scrolled": true
   },
   "outputs": [
    {
     "data": {
      "text/html": [
       "<div>\n",
       "<style scoped>\n",
       "    .dataframe tbody tr th:only-of-type {\n",
       "        vertical-align: middle;\n",
       "    }\n",
       "\n",
       "    .dataframe tbody tr th {\n",
       "        vertical-align: top;\n",
       "    }\n",
       "\n",
       "    .dataframe thead th {\n",
       "        text-align: right;\n",
       "    }\n",
       "</style>\n",
       "<table border=\"1\" class=\"dataframe\">\n",
       "  <thead>\n",
       "    <tr style=\"text-align: right;\">\n",
       "      <th></th>\n",
       "      <th>cust_id</th>\n",
       "      <th>DOB</th>\n",
       "      <th>Gender</th>\n",
       "      <th>city_code</th>\n",
       "    </tr>\n",
       "  </thead>\n",
       "  <tbody>\n",
       "    <tr>\n",
       "      <th>0</th>\n",
       "      <td>268408</td>\n",
       "      <td>02-01-1970</td>\n",
       "      <td>M</td>\n",
       "      <td>4.0</td>\n",
       "    </tr>\n",
       "    <tr>\n",
       "      <th>1</th>\n",
       "      <td>269696</td>\n",
       "      <td>07-01-1970</td>\n",
       "      <td>F</td>\n",
       "      <td>8.0</td>\n",
       "    </tr>\n",
       "    <tr>\n",
       "      <th>2</th>\n",
       "      <td>268159</td>\n",
       "      <td>08-01-1970</td>\n",
       "      <td>F</td>\n",
       "      <td>8.0</td>\n",
       "    </tr>\n",
       "    <tr>\n",
       "      <th>3</th>\n",
       "      <td>270181</td>\n",
       "      <td>10-01-1970</td>\n",
       "      <td>F</td>\n",
       "      <td>2.0</td>\n",
       "    </tr>\n",
       "    <tr>\n",
       "      <th>4</th>\n",
       "      <td>268073</td>\n",
       "      <td>11-01-1970</td>\n",
       "      <td>M</td>\n",
       "      <td>1.0</td>\n",
       "    </tr>\n",
       "    <tr>\n",
       "      <th>...</th>\n",
       "      <td>...</td>\n",
       "      <td>...</td>\n",
       "      <td>...</td>\n",
       "      <td>...</td>\n",
       "    </tr>\n",
       "    <tr>\n",
       "      <th>5642</th>\n",
       "      <td>274474</td>\n",
       "      <td>19-12-1992</td>\n",
       "      <td>M</td>\n",
       "      <td>2.0</td>\n",
       "    </tr>\n",
       "    <tr>\n",
       "      <th>5643</th>\n",
       "      <td>267666</td>\n",
       "      <td>24-12-1992</td>\n",
       "      <td>M</td>\n",
       "      <td>6.0</td>\n",
       "    </tr>\n",
       "    <tr>\n",
       "      <th>5644</th>\n",
       "      <td>270476</td>\n",
       "      <td>25-12-1992</td>\n",
       "      <td>F</td>\n",
       "      <td>3.0</td>\n",
       "    </tr>\n",
       "    <tr>\n",
       "      <th>5645</th>\n",
       "      <td>269626</td>\n",
       "      <td>27-12-1992</td>\n",
       "      <td>F</td>\n",
       "      <td>5.0</td>\n",
       "    </tr>\n",
       "    <tr>\n",
       "      <th>5646</th>\n",
       "      <td>274308</td>\n",
       "      <td>29-12-1992</td>\n",
       "      <td>F</td>\n",
       "      <td>5.0</td>\n",
       "    </tr>\n",
       "  </tbody>\n",
       "</table>\n",
       "<p>5647 rows × 4 columns</p>\n",
       "</div>"
      ],
      "text/plain": [
       "      cust_id         DOB Gender  city_code\n",
       "0      268408  02-01-1970      M        4.0\n",
       "1      269696  07-01-1970      F        8.0\n",
       "2      268159  08-01-1970      F        8.0\n",
       "3      270181  10-01-1970      F        2.0\n",
       "4      268073  11-01-1970      M        1.0\n",
       "...       ...         ...    ...        ...\n",
       "5642   274474  19-12-1992      M        2.0\n",
       "5643   267666  24-12-1992      M        6.0\n",
       "5644   270476  25-12-1992      F        3.0\n",
       "5645   269626  27-12-1992      F        5.0\n",
       "5646   274308  29-12-1992      F        5.0\n",
       "\n",
       "[5647 rows x 4 columns]"
      ]
     },
     "execution_count": 412,
     "metadata": {},
     "output_type": "execute_result"
    }
   ],
   "source": [
    "cust.rename(columns={\"customer_Id\":\"cust_id\"},inplace=True)\n",
    "cust"
   ]
  },
  {
   "cell_type": "code",
   "execution_count": 413,
   "id": "41359847",
   "metadata": {},
   "outputs": [],
   "source": [
    "\n",
    "prod_concat = pd.merge(left = cust , right = prod_concat,on=[\"cust_id\"],how=\"left\")"
   ]
  },
  {
   "cell_type": "code",
   "execution_count": 414,
   "id": "46b96ae5",
   "metadata": {
    "scrolled": true
   },
   "outputs": [
    {
     "data": {
      "text/plain": [
       "cust_id               int64\n",
       "DOB                  object\n",
       "Gender               object\n",
       "city_code           float64\n",
       "transaction_id      float64\n",
       "tran_date            object\n",
       "prod_subcat_code    float64\n",
       "prod_cat_code       float64\n",
       "Qty                 float64\n",
       "Rate                float64\n",
       "Tax                 float64\n",
       "total_amt           float64\n",
       "Store_type           object\n",
       "prod_cat             object\n",
       "prod_subcat          object\n",
       "dtype: object"
      ]
     },
     "execution_count": 414,
     "metadata": {},
     "output_type": "execute_result"
    }
   ],
   "source": [
    "prod_concat.dtypes"
   ]
  },
  {
   "cell_type": "code",
   "execution_count": 415,
   "id": "3af50d2d",
   "metadata": {},
   "outputs": [
    {
     "data": {
      "text/html": [
       "<div>\n",
       "<style scoped>\n",
       "    .dataframe tbody tr th:only-of-type {\n",
       "        vertical-align: middle;\n",
       "    }\n",
       "\n",
       "    .dataframe tbody tr th {\n",
       "        vertical-align: top;\n",
       "    }\n",
       "\n",
       "    .dataframe thead th {\n",
       "        text-align: right;\n",
       "    }\n",
       "</style>\n",
       "<table border=\"1\" class=\"dataframe\">\n",
       "  <thead>\n",
       "    <tr style=\"text-align: right;\">\n",
       "      <th></th>\n",
       "      <th>cust_id</th>\n",
       "      <th>DOB</th>\n",
       "      <th>Gender</th>\n",
       "      <th>city_code</th>\n",
       "      <th>transaction_id</th>\n",
       "      <th>tran_date</th>\n",
       "      <th>prod_subcat_code</th>\n",
       "      <th>prod_cat_code</th>\n",
       "      <th>Qty</th>\n",
       "      <th>Rate</th>\n",
       "      <th>Tax</th>\n",
       "      <th>total_amt</th>\n",
       "      <th>Store_type</th>\n",
       "      <th>prod_cat</th>\n",
       "      <th>prod_subcat</th>\n",
       "    </tr>\n",
       "  </thead>\n",
       "  <tbody>\n",
       "    <tr>\n",
       "      <th>0</th>\n",
       "      <td>268408</td>\n",
       "      <td>02-01-1970</td>\n",
       "      <td>M</td>\n",
       "      <td>4.0</td>\n",
       "      <td>8.724384e+10</td>\n",
       "      <td>13-01-2014</td>\n",
       "      <td>7.0</td>\n",
       "      <td>5.0</td>\n",
       "      <td>5.0</td>\n",
       "      <td>187.0</td>\n",
       "      <td>98.175</td>\n",
       "      <td>1033.175</td>\n",
       "      <td>TeleShop</td>\n",
       "      <td>Books</td>\n",
       "      <td>Fiction</td>\n",
       "    </tr>\n",
       "    <tr>\n",
       "      <th>1</th>\n",
       "      <td>268408</td>\n",
       "      <td>02-01-1970</td>\n",
       "      <td>M</td>\n",
       "      <td>4.0</td>\n",
       "      <td>1.619787e+10</td>\n",
       "      <td>16-12-2013</td>\n",
       "      <td>1.0</td>\n",
       "      <td>4.0</td>\n",
       "      <td>-5.0</td>\n",
       "      <td>-210.0</td>\n",
       "      <td>110.250</td>\n",
       "      <td>-1160.250</td>\n",
       "      <td>Flagship store</td>\n",
       "      <td>Bags</td>\n",
       "      <td>Mens</td>\n",
       "    </tr>\n",
       "    <tr>\n",
       "      <th>2</th>\n",
       "      <td>268408</td>\n",
       "      <td>02-01-1970</td>\n",
       "      <td>M</td>\n",
       "      <td>4.0</td>\n",
       "      <td>1.619787e+10</td>\n",
       "      <td>12/12/2013</td>\n",
       "      <td>1.0</td>\n",
       "      <td>4.0</td>\n",
       "      <td>5.0</td>\n",
       "      <td>210.0</td>\n",
       "      <td>110.250</td>\n",
       "      <td>1160.250</td>\n",
       "      <td>Flagship store</td>\n",
       "      <td>Bags</td>\n",
       "      <td>Mens</td>\n",
       "    </tr>\n",
       "    <tr>\n",
       "      <th>3</th>\n",
       "      <td>268408</td>\n",
       "      <td>02-01-1970</td>\n",
       "      <td>M</td>\n",
       "      <td>4.0</td>\n",
       "      <td>2.881014e+10</td>\n",
       "      <td>2/9/2013</td>\n",
       "      <td>10.0</td>\n",
       "      <td>6.0</td>\n",
       "      <td>2.0</td>\n",
       "      <td>813.0</td>\n",
       "      <td>170.730</td>\n",
       "      <td>1796.730</td>\n",
       "      <td>TeleShop</td>\n",
       "      <td>Home and kitchen</td>\n",
       "      <td>Kitchen</td>\n",
       "    </tr>\n",
       "    <tr>\n",
       "      <th>4</th>\n",
       "      <td>268408</td>\n",
       "      <td>02-01-1970</td>\n",
       "      <td>M</td>\n",
       "      <td>4.0</td>\n",
       "      <td>6.463344e+10</td>\n",
       "      <td>6/5/2013</td>\n",
       "      <td>4.0</td>\n",
       "      <td>2.0</td>\n",
       "      <td>3.0</td>\n",
       "      <td>312.0</td>\n",
       "      <td>98.280</td>\n",
       "      <td>1034.280</td>\n",
       "      <td>Flagship store</td>\n",
       "      <td>Footwear</td>\n",
       "      <td>Kids</td>\n",
       "    </tr>\n",
       "  </tbody>\n",
       "</table>\n",
       "</div>"
      ],
      "text/plain": [
       "   cust_id         DOB Gender  city_code  transaction_id   tran_date  \\\n",
       "0   268408  02-01-1970      M        4.0    8.724384e+10  13-01-2014   \n",
       "1   268408  02-01-1970      M        4.0    1.619787e+10  16-12-2013   \n",
       "2   268408  02-01-1970      M        4.0    1.619787e+10  12/12/2013   \n",
       "3   268408  02-01-1970      M        4.0    2.881014e+10    2/9/2013   \n",
       "4   268408  02-01-1970      M        4.0    6.463344e+10    6/5/2013   \n",
       "\n",
       "   prod_subcat_code  prod_cat_code  Qty   Rate      Tax  total_amt  \\\n",
       "0               7.0            5.0  5.0  187.0   98.175   1033.175   \n",
       "1               1.0            4.0 -5.0 -210.0  110.250  -1160.250   \n",
       "2               1.0            4.0  5.0  210.0  110.250   1160.250   \n",
       "3              10.0            6.0  2.0  813.0  170.730   1796.730   \n",
       "4               4.0            2.0  3.0  312.0   98.280   1034.280   \n",
       "\n",
       "       Store_type          prod_cat prod_subcat  \n",
       "0        TeleShop             Books     Fiction  \n",
       "1  Flagship store              Bags        Mens  \n",
       "2  Flagship store              Bags        Mens  \n",
       "3        TeleShop  Home and kitchen     Kitchen  \n",
       "4  Flagship store          Footwear        Kids  "
      ]
     },
     "execution_count": 415,
     "metadata": {},
     "output_type": "execute_result"
    }
   ],
   "source": [
    "prod_concat.head()"
   ]
  },
  {
   "cell_type": "code",
   "execution_count": 416,
   "id": "d4b44619",
   "metadata": {
    "scrolled": true
   },
   "outputs": [
    {
     "data": {
      "text/html": [
       "<div>\n",
       "<style scoped>\n",
       "    .dataframe tbody tr th:only-of-type {\n",
       "        vertical-align: middle;\n",
       "    }\n",
       "\n",
       "    .dataframe tbody tr th {\n",
       "        vertical-align: top;\n",
       "    }\n",
       "\n",
       "    .dataframe thead th {\n",
       "        text-align: right;\n",
       "    }\n",
       "</style>\n",
       "<table border=\"1\" class=\"dataframe\">\n",
       "  <thead>\n",
       "    <tr style=\"text-align: right;\">\n",
       "      <th></th>\n",
       "      <th>cust_id</th>\n",
       "      <th>city_code</th>\n",
       "      <th>transaction_id</th>\n",
       "      <th>prod_subcat_code</th>\n",
       "      <th>prod_cat_code</th>\n",
       "      <th>Qty</th>\n",
       "      <th>Rate</th>\n",
       "      <th>Tax</th>\n",
       "      <th>total_amt</th>\n",
       "    </tr>\n",
       "  </thead>\n",
       "  <tbody>\n",
       "    <tr>\n",
       "      <th>count</th>\n",
       "      <td>23194.000000</td>\n",
       "      <td>23186.000000</td>\n",
       "      <td>2.305300e+04</td>\n",
       "      <td>23053.000000</td>\n",
       "      <td>23053.000000</td>\n",
       "      <td>23053.000000</td>\n",
       "      <td>23053.000000</td>\n",
       "      <td>23053.000000</td>\n",
       "      <td>23053.000000</td>\n",
       "    </tr>\n",
       "    <tr>\n",
       "      <th>mean</th>\n",
       "      <td>271022.609296</td>\n",
       "      <td>5.480204</td>\n",
       "      <td>5.007348e+10</td>\n",
       "      <td>6.149091</td>\n",
       "      <td>3.763632</td>\n",
       "      <td>2.432395</td>\n",
       "      <td>636.369713</td>\n",
       "      <td>248.667192</td>\n",
       "      <td>2107.308002</td>\n",
       "    </tr>\n",
       "    <tr>\n",
       "      <th>std</th>\n",
       "      <td>2431.350129</td>\n",
       "      <td>2.863884</td>\n",
       "      <td>2.898194e+10</td>\n",
       "      <td>3.726372</td>\n",
       "      <td>1.677016</td>\n",
       "      <td>2.268406</td>\n",
       "      <td>622.363498</td>\n",
       "      <td>187.177773</td>\n",
       "      <td>2507.561264</td>\n",
       "    </tr>\n",
       "    <tr>\n",
       "      <th>min</th>\n",
       "      <td>266783.000000</td>\n",
       "      <td>1.000000</td>\n",
       "      <td>3.268991e+06</td>\n",
       "      <td>1.000000</td>\n",
       "      <td>1.000000</td>\n",
       "      <td>-5.000000</td>\n",
       "      <td>-1499.000000</td>\n",
       "      <td>7.350000</td>\n",
       "      <td>-8270.925000</td>\n",
       "    </tr>\n",
       "    <tr>\n",
       "      <th>25%</th>\n",
       "      <td>268936.000000</td>\n",
       "      <td>3.000000</td>\n",
       "      <td>2.493864e+10</td>\n",
       "      <td>3.000000</td>\n",
       "      <td>2.000000</td>\n",
       "      <td>1.000000</td>\n",
       "      <td>312.000000</td>\n",
       "      <td>98.280000</td>\n",
       "      <td>762.450000</td>\n",
       "    </tr>\n",
       "    <tr>\n",
       "      <th>50%</th>\n",
       "      <td>270981.000000</td>\n",
       "      <td>5.000000</td>\n",
       "      <td>5.009313e+10</td>\n",
       "      <td>5.000000</td>\n",
       "      <td>4.000000</td>\n",
       "      <td>3.000000</td>\n",
       "      <td>710.000000</td>\n",
       "      <td>199.080000</td>\n",
       "      <td>1754.740000</td>\n",
       "    </tr>\n",
       "    <tr>\n",
       "      <th>75%</th>\n",
       "      <td>273115.750000</td>\n",
       "      <td>8.000000</td>\n",
       "      <td>7.533000e+10</td>\n",
       "      <td>10.000000</td>\n",
       "      <td>5.000000</td>\n",
       "      <td>4.000000</td>\n",
       "      <td>1109.000000</td>\n",
       "      <td>365.715000</td>\n",
       "      <td>3569.150000</td>\n",
       "    </tr>\n",
       "    <tr>\n",
       "      <th>max</th>\n",
       "      <td>275265.000000</td>\n",
       "      <td>10.000000</td>\n",
       "      <td>9.998755e+10</td>\n",
       "      <td>12.000000</td>\n",
       "      <td>6.000000</td>\n",
       "      <td>5.000000</td>\n",
       "      <td>1500.000000</td>\n",
       "      <td>787.500000</td>\n",
       "      <td>8287.500000</td>\n",
       "    </tr>\n",
       "  </tbody>\n",
       "</table>\n",
       "</div>"
      ],
      "text/plain": [
       "             cust_id     city_code  transaction_id  prod_subcat_code  \\\n",
       "count   23194.000000  23186.000000    2.305300e+04      23053.000000   \n",
       "mean   271022.609296      5.480204    5.007348e+10          6.149091   \n",
       "std      2431.350129      2.863884    2.898194e+10          3.726372   \n",
       "min    266783.000000      1.000000    3.268991e+06          1.000000   \n",
       "25%    268936.000000      3.000000    2.493864e+10          3.000000   \n",
       "50%    270981.000000      5.000000    5.009313e+10          5.000000   \n",
       "75%    273115.750000      8.000000    7.533000e+10         10.000000   \n",
       "max    275265.000000     10.000000    9.998755e+10         12.000000   \n",
       "\n",
       "       prod_cat_code           Qty          Rate           Tax     total_amt  \n",
       "count   23053.000000  23053.000000  23053.000000  23053.000000  23053.000000  \n",
       "mean        3.763632      2.432395    636.369713    248.667192   2107.308002  \n",
       "std         1.677016      2.268406    622.363498    187.177773   2507.561264  \n",
       "min         1.000000     -5.000000  -1499.000000      7.350000  -8270.925000  \n",
       "25%         2.000000      1.000000    312.000000     98.280000    762.450000  \n",
       "50%         4.000000      3.000000    710.000000    199.080000   1754.740000  \n",
       "75%         5.000000      4.000000   1109.000000    365.715000   3569.150000  \n",
       "max         6.000000      5.000000   1500.000000    787.500000   8287.500000  "
      ]
     },
     "execution_count": 416,
     "metadata": {},
     "output_type": "execute_result"
    }
   ],
   "source": [
    "prod_concat.describe()"
   ]
  },
  {
   "cell_type": "code",
   "execution_count": 417,
   "id": "f23084f9",
   "metadata": {},
   "outputs": [
    {
     "data": {
      "text/html": [
       "<div>\n",
       "<style scoped>\n",
       "    .dataframe tbody tr th:only-of-type {\n",
       "        vertical-align: middle;\n",
       "    }\n",
       "\n",
       "    .dataframe tbody tr th {\n",
       "        vertical-align: top;\n",
       "    }\n",
       "\n",
       "    .dataframe thead th {\n",
       "        text-align: right;\n",
       "    }\n",
       "</style>\n",
       "<table border=\"1\" class=\"dataframe\">\n",
       "  <thead>\n",
       "    <tr style=\"text-align: right;\">\n",
       "      <th></th>\n",
       "      <th>Store_type</th>\n",
       "      <th>prod_cat</th>\n",
       "      <th>prod_subcat</th>\n",
       "      <th>Gender</th>\n",
       "    </tr>\n",
       "  </thead>\n",
       "  <tbody>\n",
       "    <tr>\n",
       "      <th>count</th>\n",
       "      <td>23053</td>\n",
       "      <td>23053</td>\n",
       "      <td>23053</td>\n",
       "      <td>23185</td>\n",
       "    </tr>\n",
       "    <tr>\n",
       "      <th>unique</th>\n",
       "      <td>4</td>\n",
       "      <td>6</td>\n",
       "      <td>18</td>\n",
       "      <td>2</td>\n",
       "    </tr>\n",
       "    <tr>\n",
       "      <th>top</th>\n",
       "      <td>e-Shop</td>\n",
       "      <td>Books</td>\n",
       "      <td>Women</td>\n",
       "      <td>M</td>\n",
       "    </tr>\n",
       "    <tr>\n",
       "      <th>freq</th>\n",
       "      <td>9311</td>\n",
       "      <td>6069</td>\n",
       "      <td>3048</td>\n",
       "      <td>11877</td>\n",
       "    </tr>\n",
       "  </tbody>\n",
       "</table>\n",
       "</div>"
      ],
      "text/plain": [
       "       Store_type prod_cat prod_subcat Gender\n",
       "count       23053    23053       23053  23185\n",
       "unique          4        6          18      2\n",
       "top        e-Shop    Books       Women      M\n",
       "freq         9311     6069        3048  11877"
      ]
     },
     "execution_count": 417,
     "metadata": {},
     "output_type": "execute_result"
    }
   ],
   "source": [
    "prod_concat.loc[:,[\"Store_type\",\"prod_cat\",\"prod_subcat\",\"Gender\"]].describe()"
   ]
  },
  {
   "cell_type": "code",
   "execution_count": 418,
   "id": "da8dfc5f",
   "metadata": {},
   "outputs": [],
   "source": [
    "import matplotlib.pyplot as plt"
   ]
  },
  {
   "cell_type": "code",
   "execution_count": 419,
   "id": "6d275f9b",
   "metadata": {},
   "outputs": [
    {
     "data": {
      "image/png": "[encoded data removed]",
      "text/plain": [
       "<Figure size 432x288 with 1 Axes>"
      ]
     },
     "metadata": {
      "needs_background": "light"
     },
     "output_type": "display_data"
    },
    {
     "data": {
      "image/png": "[encoded data removed]",
      "text/plain": [
       "<Figure size 432x288 with 1 Axes>"
      ]
     },
     "metadata": {
      "needs_background": "light"
     },
     "output_type": "display_data"
    },
    {
     "data": {
      "image/png": "[encoded data removed]",
      "text/plain": [
       "<Figure size 432x288 with 1 Axes>"
      ]
     },
     "metadata": {
      "needs_background": "light"
     },
     "output_type": "display_data"
    },
    {
     "data": {
      "image/png": "[encoded data removed]",
      "text/plain": [
       "<Figure size 432x288 with 1 Axes>"
      ]
     },
     "metadata": {
      "needs_background": "light"
     },
     "output_type": "display_data"
    },
    {
     "data": {
      "image/png": "[encoded data removed]",
      "text/plain": [
       "<Figure size 432x288 with 1 Axes>"
      ]
     },
     "metadata": {
      "needs_background": "light"
     },
     "output_type": "display_data"
    },
    {
     "data": {
      "image/png": "[encoded data removed]",
      "text/plain": [
       "<Figure size 432x288 with 1 Axes>"
      ]
     },
     "metadata": {
      "needs_background": "light"
     },
     "output_type": "display_data"
    },
    {
     "data": {
      "image/png": "[encoded data removed]",
      "text/plain": [
       "<Figure size 432x288 with 1 Axes>"
      ]
     },
     "metadata": {
      "needs_background": "light"
     },
     "output_type": "display_data"
    }
   ],
   "source": [
    "col  = prod_concat[[\"Qty\",\"Rate\",\"Tax\",\"total_amt\",\"prod_subcat_code\",\"prod_cat_code\",\"prod_subcat_code\"]].columns\n",
    "for i in col:\n",
    "    prod_concat[i].hist()\n",
    "    plt.title(i)\n",
    "    plt.show()\n"
   ]
  },
  {
   "cell_type": "code",
   "execution_count": 420,
   "id": "4725bb6c",
   "metadata": {},
   "outputs": [
    {
     "data": {
      "text/plain": [
       "<AxesSubplot:xlabel='Store_type', ylabel='count'>"
      ]
     },
     "execution_count": 420,
     "metadata": {},
     "output_type": "execute_result"
    },
    {
     "data": {
      "image/png": "[encoded data removed]",
      "text/plain": [
       "<Figure size 432x288 with 1 Axes>"
      ]
     },
     "metadata": {
      "needs_background": "light"
     },
     "output_type": "display_data"
    }
   ],
   "source": [
    "import seaborn as sns\n",
    "# for i in [\"Store_type\",\"prod_cat\",\"prod_subcat\",\"Gender\"]:\n",
    "sns.countplot(x=prod_concat[\"Store_type\"])"
   ]
  },
  {
   "cell_type": "code",
   "execution_count": 421,
   "id": "c4560de8",
   "metadata": {},
   "outputs": [
    {
     "data": {
      "text/plain": [
       "<AxesSubplot:xlabel='prod_cat', ylabel='count'>"
      ]
     },
     "execution_count": 421,
     "metadata": {},
     "output_type": "execute_result"
    },
    {
     "data": {
      "image/png": "[encoded data removed]",
      "text/plain": [
       "<Figure size 576x576 with 1 Axes>"
      ]
     },
     "metadata": {
      "needs_background": "light"
     },
     "output_type": "display_data"
    }
   ],
   "source": [
    "plt.figure(figsize=(8,8))\n",
    "sns.countplot(x=prod_concat[\"prod_cat\"])"
   ]
  },
  {
   "cell_type": "code",
   "execution_count": 422,
   "id": "2e85ecfd",
   "metadata": {},
   "outputs": [
    {
     "data": {
      "text/plain": [
       "<AxesSubplot:xlabel='prod_subcat', ylabel='count'>"
      ]
     },
     "execution_count": 422,
     "metadata": {},
     "output_type": "execute_result"
    },
    {
     "data": {
      "image/png": "[encoded data removed]",
      "text/plain": [
       "<Figure size 1440x576 with 1 Axes>"
      ]
     },
     "metadata": {
      "needs_background": "light"
     },
     "output_type": "display_data"
    }
   ],
   "source": [
    "plt.figure(figsize=(20,8))\n",
    "sns.countplot(x = prod_concat[\"prod_subcat\"])"
   ]
  },
  {
   "cell_type": "code",
   "execution_count": 423,
   "id": "0a1f49c5",
   "metadata": {},
   "outputs": [
    {
     "data": {
      "text/plain": [
       "<AxesSubplot:xlabel='Gender', ylabel='count'>"
      ]
     },
     "execution_count": 423,
     "metadata": {},
     "output_type": "execute_result"
    },
    {
     "data": {
      "image/png": "[encoded data removed]",
      "text/plain": [
       "<Figure size 432x288 with 1 Axes>"
      ]
     },
     "metadata": {
      "needs_background": "light"
     },
     "output_type": "display_data"
    }
   ],
   "source": [
    "sns.countplot(x = prod_concat[\"Gender\"])"
   ]
  },
  {
   "cell_type": "code",
   "execution_count": 456,
   "id": "7f2e74fa",
   "metadata": {},
   "outputs": [
    {
     "name": "stdout",
     "output_type": "stream",
     "text": [
      "Transaction are from : 2011-01-02 00:00:00  to  2014-12-02 00:00:00\n"
     ]
    }
   ],
   "source": [
    "prod_concat.tran_date = pd.to_datetime(prod_concat.tran_date)\n",
    "print(\"Transaction are from :\",prod_concat.tran_date.min(),\"to \",prod_concat.tran_date.max())"
   ]
  },
  {
   "cell_type": "code",
   "execution_count": 425,
   "id": "7943f51e",
   "metadata": {},
   "outputs": [],
   "source": [
    "# prod_concat.drop_na()\n",
    "female = prod_concat.dropna().groupby([\"Gender\",\"prod_cat\"])"
   ]
  },
  {
   "cell_type": "code",
   "execution_count": 426,
   "id": "48295a0b",
   "metadata": {},
   "outputs": [],
   "source": [
    "female =female[\"Qty\"].sum().reset_index()"
   ]
  },
  {
   "cell_type": "code",
   "execution_count": 427,
   "id": "7db019cc",
   "metadata": {},
   "outputs": [],
   "source": [
    "female = female.pivot(index=\"Gender\",columns=\"prod_cat\",values=\"Qty\")\n",
    "col = prod_concat.prod_cat.dropna().unique()"
   ]
  },
  {
   "cell_type": "code",
   "execution_count": 428,
   "id": "132aee17",
   "metadata": {},
   "outputs": [
    {
     "name": "stdout",
     "output_type": "stream",
     "text": [
      "['Books', 'Bags', 'Home and kitchen', 'Footwear', 'Electronics', 'Clothing']\n",
      "Books\n"
     ]
    },
    {
     "data": {
      "image/png": "[encoded data removed]",
      "text/plain": [
       "<Figure size 432x288 with 1 Axes>"
      ]
     },
     "metadata": {
      "needs_background": "light"
     },
     "output_type": "display_data"
    },
    {
     "name": "stdout",
     "output_type": "stream",
     "text": [
      "Bags\n"
     ]
    },
    {
     "data": {
      "image/png": "[encoded data removed]",
      "text/plain": [
       "<Figure size 432x288 with 1 Axes>"
      ]
     },
     "metadata": {
      "needs_background": "light"
     },
     "output_type": "display_data"
    },
    {
     "name": "stdout",
     "output_type": "stream",
     "text": [
      "Home and kitchen\n"
     ]
    },
    {
     "data": {
      "image/png": "[encoded data removed]",
      "text/plain": [
       "<Figure size 432x288 with 1 Axes>"
      ]
     },
     "metadata": {
      "needs_background": "light"
     },
     "output_type": "display_data"
    },
    {
     "name": "stdout",
     "output_type": "stream",
     "text": [
      "Footwear\n"
     ]
    },
    {
     "data": {
      "image/png": "[encoded data removed]",
      "text/plain": [
       "<Figure size 432x288 with 1 Axes>"
      ]
     },
     "metadata": {
      "needs_background": "light"
     },
     "output_type": "display_data"
    },
    {
     "name": "stdout",
     "output_type": "stream",
     "text": [
      "Electronics\n"
     ]
    },
    {
     "data": {
      "image/png": "[encoded data removed]",
      "text/plain": [
       "<Figure size 432x288 with 1 Axes>"
      ]
     },
     "metadata": {
      "needs_background": "light"
     },
     "output_type": "display_data"
    },
    {
     "name": "stdout",
     "output_type": "stream",
     "text": [
      "Clothing\n"
     ]
    },
    {
     "data": {
      "image/png": "[encoded data removed]",
      "text/plain": [
       "<Figure size 432x288 with 1 Axes>"
      ]
     },
     "metadata": {
      "needs_background": "light"
     },
     "output_type": "display_data"
    }
   ],
   "source": [
    "print(list(col))\n",
    "for i in col:\n",
    "    print(i)\n",
    "    female[i].plot(kind =\"bar\")\n",
    "    plt.title(i)\n",
    "    plt.show()"
   ]
  },
  {
   "cell_type": "code",
   "execution_count": 429,
   "id": "62881f31",
   "metadata": {},
   "outputs": [
    {
     "data": {
      "text/html": [
       "<div>\n",
       "<style scoped>\n",
       "    .dataframe tbody tr th:only-of-type {\n",
       "        vertical-align: middle;\n",
       "    }\n",
       "\n",
       "    .dataframe tbody tr th {\n",
       "        vertical-align: top;\n",
       "    }\n",
       "\n",
       "    .dataframe thead th {\n",
       "        text-align: right;\n",
       "    }\n",
       "</style>\n",
       "<table border=\"1\" class=\"dataframe\">\n",
       "  <thead>\n",
       "    <tr style=\"text-align: right;\">\n",
       "      <th></th>\n",
       "      <th>Qty</th>\n",
       "      <th>total_amt</th>\n",
       "    </tr>\n",
       "    <tr>\n",
       "      <th>Store_type</th>\n",
       "      <th></th>\n",
       "      <th></th>\n",
       "    </tr>\n",
       "  </thead>\n",
       "  <tbody>\n",
       "    <tr>\n",
       "      <th>e-Shop</th>\n",
       "      <td>22763.0</td>\n",
       "      <td>1.982482e+07</td>\n",
       "    </tr>\n",
       "    <tr>\n",
       "      <th>MBR</th>\n",
       "      <td>11194.0</td>\n",
       "      <td>9.674486e+06</td>\n",
       "    </tr>\n",
       "    <tr>\n",
       "      <th>Flagship store</th>\n",
       "      <td>11133.0</td>\n",
       "      <td>9.715688e+06</td>\n",
       "    </tr>\n",
       "    <tr>\n",
       "      <th>TeleShop</th>\n",
       "      <td>10984.0</td>\n",
       "      <td>9.364781e+06</td>\n",
       "    </tr>\n",
       "  </tbody>\n",
       "</table>\n",
       "</div>"
      ],
      "text/plain": [
       "                    Qty     total_amt\n",
       "Store_type                           \n",
       "e-Shop          22763.0  1.982482e+07\n",
       "MBR             11194.0  9.674486e+06\n",
       "Flagship store  11133.0  9.715688e+06\n",
       "TeleShop        10984.0  9.364781e+06"
      ]
     },
     "execution_count": 429,
     "metadata": {},
     "output_type": "execute_result"
    }
   ],
   "source": [
    "# prod_concat[[\"Qty\",\"Rate\",\"Tax\",\"total_amt\"]]= prod_concat[[\"Qty\",\"Rate\",\"Tax\",\"total_amt\"]].abs()\n",
    "prod_concat.groupby(\"Store_type\")[[\"Qty\",\"total_amt\"]].sum().sort_values(by=[\"Qty\",\"total_amt\"],ascending=False)\n",
    "#E-Shop sells most by Quantity and total amount "
   ]
  },
  {
   "cell_type": "code",
   "execution_count": 430,
   "id": "7bf22408",
   "metadata": {},
   "outputs": [
    {
     "data": {
      "text/html": [
       "<div>\n",
       "<style scoped>\n",
       "    .dataframe tbody tr th:only-of-type {\n",
       "        vertical-align: middle;\n",
       "    }\n",
       "\n",
       "    .dataframe tbody tr th {\n",
       "        vertical-align: top;\n",
       "    }\n",
       "\n",
       "    .dataframe thead th {\n",
       "        text-align: right;\n",
       "    }\n",
       "</style>\n",
       "<table border=\"1\" class=\"dataframe\">\n",
       "  <thead>\n",
       "    <tr style=\"text-align: right;\">\n",
       "      <th></th>\n",
       "      <th>total_amt</th>\n",
       "    </tr>\n",
       "    <tr>\n",
       "      <th>prod_cat</th>\n",
       "      <th></th>\n",
       "    </tr>\n",
       "  </thead>\n",
       "  <tbody>\n",
       "    <tr>\n",
       "      <th>Electronics</th>\n",
       "      <td>2215136.04</td>\n",
       "    </tr>\n",
       "    <tr>\n",
       "      <th>Clothing</th>\n",
       "      <td>1194423.23</td>\n",
       "    </tr>\n",
       "  </tbody>\n",
       "</table>\n",
       "</div>"
      ],
      "text/plain": [
       "              total_amt\n",
       "prod_cat               \n",
       "Electronics  2215136.04\n",
       "Clothing     1194423.23"
      ]
     },
     "execution_count": 430,
     "metadata": {},
     "output_type": "execute_result"
    }
   ],
   "source": [
    "new = prod_concat.groupby([\"Store_type\",\"prod_cat\"])[[\"total_amt\"]].sum()\n",
    "new.loc[\"Flagship store\"].loc[[\"Electronics\",\"Clothing\"]]\n",
    "# [new[\"Store_type\"]==\"Flagship store\" and new[\"prod_cat\"] == (\"Electronics\" or \"Clothing\" )]"
   ]
  },
  {
   "cell_type": "code",
   "execution_count": 431,
   "id": "e935cd8a",
   "metadata": {},
   "outputs": [
    {
     "data": {
      "text/plain": [
       "total_amt    5703109.425\n",
       "Name: Electronics, dtype: float64"
      ]
     },
     "execution_count": 431,
     "metadata": {},
     "output_type": "execute_result"
    }
   ],
   "source": [
    "male  = prod_concat.groupby([\"Gender\",\"prod_cat\"])[[\"total_amt\"]].sum()\n",
    "male.loc[\"M\"].loc[\"Electronics\"]"
   ]
  },
  {
   "cell_type": "code",
   "execution_count": 432,
   "id": "93f76374",
   "metadata": {},
   "outputs": [
    {
     "data": {
      "text/plain": [
       "cust_id\n",
       "266794    11\n",
       "270535    11\n",
       "270803    11\n",
       "272741    11\n",
       "273014    11\n",
       "274227    11\n",
       "Name: transaction_id, dtype: int64"
      ]
     },
     "execution_count": 432,
     "metadata": {},
     "output_type": "execute_result"
    }
   ],
   "source": [
    "customer  =  prod_concat[prod_concat.total_amt>0].drop_duplicates(subset=['transaction_id']).groupby([\"cust_id\"])[\"transaction_id\"].count()\n",
    "customer[customer>10]"
   ]
  },
  {
   "cell_type": "code",
   "execution_count": 436,
   "id": "c218bb41",
   "metadata": {},
   "outputs": [],
   "source": [
    "prod_concat[\"DOB\"] =pd.to_datetime(prod_concat[\"DOB\"])\n",
    "prod_concat[\"Age\"]  =  2022 - prod_concat[\"DOB\"].dt.year "
   ]
  },
  {
   "cell_type": "code",
   "execution_count": 443,
   "id": "014a6537",
   "metadata": {},
   "outputs": [],
   "source": [
    "# spend  = prod_concat.groupby([\"Age\",\"prod_cat\"])[\"total_amt\"].sum()\n",
    "prod_concat['Age'] = pd.cut(prod_concat['Age'],bins=[24,35,46,57],labels=['25-35','36-45','46-55'],include_lowest=True)"
   ]
  },
  {
   "cell_type": "code",
   "execution_count": 444,
   "id": "da74f425",
   "metadata": {},
   "outputs": [],
   "source": [
    "young  = prod_concat.groupby([\"Age\",\"prod_cat\"])[[\"total_amt\"]].sum()\n"
   ]
  },
  {
   "cell_type": "code",
   "execution_count": 454,
   "id": "226a06cf",
   "metadata": {},
   "outputs": [
    {
     "data": {
      "text/html": [
       "<div>\n",
       "<style scoped>\n",
       "    .dataframe tbody tr th:only-of-type {\n",
       "        vertical-align: middle;\n",
       "    }\n",
       "\n",
       "    .dataframe tbody tr th {\n",
       "        vertical-align: top;\n",
       "    }\n",
       "\n",
       "    .dataframe thead th {\n",
       "        text-align: right;\n",
       "    }\n",
       "</style>\n",
       "<table border=\"1\" class=\"dataframe\">\n",
       "  <thead>\n",
       "    <tr style=\"text-align: right;\">\n",
       "      <th></th>\n",
       "      <th>total_amt</th>\n",
       "    </tr>\n",
       "    <tr>\n",
       "      <th>prod_cat</th>\n",
       "      <th></th>\n",
       "    </tr>\n",
       "  </thead>\n",
       "  <tbody>\n",
       "    <tr>\n",
       "      <th>Electronics</th>\n",
       "      <td>2883920.715</td>\n",
       "    </tr>\n",
       "    <tr>\n",
       "      <th>Books</th>\n",
       "      <td>3174082.665</td>\n",
       "    </tr>\n",
       "  </tbody>\n",
       "</table>\n",
       "</div>"
      ],
      "text/plain": [
       "               total_amt\n",
       "prod_cat                \n",
       "Electronics  2883920.715\n",
       "Books        3174082.665"
      ]
     },
     "execution_count": 454,
     "metadata": {},
     "output_type": "execute_result"
    }
   ],
   "source": [
    "young.loc['25-35'].loc[[\"Electronics\",\"Books\"]]"
   ]
  },
  {
   "cell_type": "code",
   "execution_count": 460,
   "id": "6a6736a2",
   "metadata": {},
   "outputs": [
    {
     "data": {
      "text/plain": [
       "388173.24"
      ]
     },
     "execution_count": 460,
     "metadata": {},
     "output_type": "execute_result"
    }
   ],
   "source": [
    "prod_concat[(prod_concat.tran_date>'2014-01-01') & (prod_concat.tran_date<'2014-03-01') & (prod_concat.Age == \"25-35\")][\"total_amt\"].sum()"
   ]
  }
 ],
 "metadata": {
  "kernelspec": {
   "display_name": "Python 3.9.7 ('base')",
   "language": "python",
   "name": "python3"
  },
  "language_info": {
   "codemirror_mode": {
    "name": "ipython",
    "version": 3
   },
   "file_extension": ".py",
   "mimetype": "text/x-python",
   "name": "python",
   "nbconvert_exporter": "python",
   "pygments_lexer": "ipython3",
   "version": "3.9.7"
  },
  "vscode": {
   "interpreter": {
    "hash": "ad2bdc8ecc057115af97d19610ffacc2b4e99fae6737bb82f5d7fb13d2f2c186"
   }
  }
 },
 "nbformat": 4,
 "nbformat_minor": 5
}
